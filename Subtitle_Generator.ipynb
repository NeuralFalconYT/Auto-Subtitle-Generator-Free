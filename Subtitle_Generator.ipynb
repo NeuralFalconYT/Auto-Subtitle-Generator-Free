{
  "nbformat": 4,
  "nbformat_minor": 0,
  "metadata": {
    "colab": {
      "private_outputs": true,
      "provenance": [],
      "gpuType": "T4"
    },
    "kernelspec": {
      "name": "python3",
      "display_name": "Python 3"
    },
    "language_info": {
      "name": "python"
    },
    "accelerator": "GPU"
  },
  "cells": [
    {
      "cell_type": "code",
      "source": [
        "#@title Install\n",
        "%cd /content/\n",
        "!git clone https://github.com/NeuralFalconYT/Auto-Subtitle-Generator-Free.git\n",
        "%cd /content/Auto-Subtitle-Generator-Free\n",
        "!pip install -r requirements.txt"
      ],
      "metadata": {
        "cellView": "form",
        "id": "WETvVhXRJv2Z"
      },
      "execution_count": null,
      "outputs": []
    },
    {
      "cell_type": "code",
      "source": [
        "%cd /content/Auto-Subtitle-Generator-Free\n",
        "!python app.py --share --debug"
      ],
      "metadata": {
        "id": "GzQU5YzUKFwY"
      },
      "execution_count": null,
      "outputs": []
    }
  ]
}